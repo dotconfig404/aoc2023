{
 "cells": [
  {
   "cell_type": "code",
   "execution_count": 119,
   "id": "2713e3ef-b22e-4d0c-bb83-d37139de9d08",
   "metadata": {},
   "outputs": [],
   "source": [
    "with open('test.txt', 'r') as file:\n",
    "    data = file.read().split(\"\\n\")"
   ]
  },
  {
   "cell_type": "code",
   "execution_count": 120,
   "id": "84736a56-58b4-4753-8a20-655ba3faf565",
   "metadata": {},
   "outputs": [
    {
     "name": "stdout",
     "output_type": "stream",
     "text": [
      "925\n"
     ]
    }
   ],
   "source": [
    "import re\n",
    "symbols = {'!','@','#','$','%','^','&','*'}\n",
    "\n",
    "def isPartsNumber(index, above, current, below):\n",
    "    if above != \"\":\n",
    "        if index-1 != -1:\n",
    "            if not  above[index-1].isdigit() and above[index-1] != '.':\n",
    "                return True\n",
    "        if not above[index].isdigit() and above[index] != '.':\n",
    "            return True\n",
    "        if index+1 != len(above):\n",
    "            if not above[index+1].isdigit() and above[index+1] != '.':\n",
    "                return True    \n",
    "\n",
    "    if index-1 != -1:\n",
    "        if not current[index-1].isdigit() and current[index-1] != '.':\n",
    "                return True\n",
    "    if index+1 != len(current):\n",
    "        if not current[index+1].isdigit() and current[index+1] != '.':\n",
    "                return True\n",
    "        \n",
    "    if below != \"\":\n",
    "        if index-1 != -1:\n",
    "            if not  below[index-1].isdigit() and below[index-1] != '.':\n",
    "                return True\n",
    "        if not below[index].isdigit() and below[index] != '.':\n",
    "            return True\n",
    "        if index+1 != len(below):\n",
    "            if not below[index+1].isdigit() and below[index+1] != '.':\n",
    "                return True\n",
    "            \n",
    "    return False\n",
    "\n",
    "sum = 0\n",
    "for r, line in enumerate(data):\n",
    "    numbers = re.findall(r'\\d+', line)  \n",
    "    starts = [match.start() for match in re.finditer(r'\\d+', line)] \n",
    "    for i, number in enumerate(numbers):\n",
    "        above = \"\"\n",
    "        if r != 0:\n",
    "            above = data[r-1]\n",
    "        below = \"\"\n",
    "        if r != len(data)-1:\n",
    "            below = data[r+1]\n",
    "        for j, n in enumerate(number):\n",
    "            # starts[i] + j = start of number + digit in number\n",
    "            # if any neighbour of that indexed digit is a symbol,\n",
    "            # this is a partsnumber. break the iteration over number.\n",
    "            if isPartsNumber(starts[i] + j, above, line, below):\n",
    "                sum += int(number)\n",
    "                break\n",
    "    \n",
    "print(sum)"
   ]
  },
  {
   "cell_type": "code",
   "execution_count": 122,
   "id": "53ccda1f-4369-480f-9568-503a2fbeb2c4",
   "metadata": {},
   "outputs": [
    {
     "name": "stdout",
     "output_type": "stream",
     "text": [
      " PARTS :  ['34']\n",
      " PARTS :  ['78', '78']\n",
      "MULTIPLIYING:  ['78', '78']\n",
      " PARTS :  ['23', '90', '12']\n",
      " PARTS :  ['2', '2', '1', '1']\n",
      " PARTS :  ['2', '2', '1', '1', '12', '56']\n",
      "6084\n"
     ]
    }
   ],
   "source": [
    "sum = 0\n",
    "for r, line in enumerate(data):\n",
    "    stars = re.findall(r'\\*', line)\n",
    "    positions = [match.start() for match in re.finditer(r'\\*', line)] \n",
    "    adjacent_partnumbers = []\n",
    "    above = \"\"\n",
    "    if r != 0:\n",
    "        above = data[r-1]\n",
    "    below = \"\"\n",
    "    if r != len(data)-1:\n",
    "        below = data[r+1]\n",
    "\n",
    "    for i, _ in enumerate(stars):\n",
    "        # above:\n",
    "        numbers = re.findall(r'\\d+', above) \n",
    "        starts = [match.start() for match in re.finditer(r'\\d+', above)] \n",
    "        ends = [match.end() for match in re.finditer(r'\\d+', above)] \n",
    "        for j, number in enumerate(numbers):\n",
    "            if positions[i] >= starts[j]-1 and ends[j] >= positions[i]:\n",
    "                adjacent_partnumbers.append(number)\n",
    "        # current:\n",
    "        numbers = re.findall(r'\\d+', line) \n",
    "        starts = [match.start() for match in re.finditer(r'\\d+', line)] \n",
    "        ends = [match.end() for match in re.finditer(r'\\d+', line)] \n",
    "        for j, number in enumerate(numbers):\n",
    "            if positions[i] >= starts[j]-1 and ends[j] >= positions[i]:\n",
    "                adjacent_partnumbers.append(number)\n",
    "        # below:\n",
    "        numbers = re.findall(r'\\d+', below) \n",
    "        starts = [match.start() for match in re.finditer(r'\\d+', below)] \n",
    "        ends = [match.end() for match in re.finditer(r'\\d+', below)] \n",
    "        for j, number in enumerate(numbers):\n",
    "            if positions[i] >= starts[j]-1 and ends[j] >= positions[i]:\n",
    "                adjacent_partnumbers.append(number)\n",
    "\n",
    "        print(\" PARTS : \",adjacent_partnumbers)\n",
    "        if len(adjacent_partnumbers) == 2:\n",
    "            print(\"MULTIPLIYING: \", adjacent_partnumbers)\n",
    "            gear_ratio = int(adjacent_partnumbers[0]) * int(adjacent_partnumbers[1])\n",
    "            sum += gear_ratio\n",
    "        \n",
    "print(sum)"
   ]
  },
  {
   "cell_type": "code",
   "execution_count": null,
   "id": "25ae2add-614e-481d-81b4-6444e4ef9363",
   "metadata": {},
   "outputs": [],
   "source": []
  }
 ],
 "metadata": {
  "kernelspec": {
   "display_name": "Python 3 (ipykernel)",
   "language": "python",
   "name": "python3"
  },
  "language_info": {
   "codemirror_mode": {
    "name": "ipython",
    "version": 3
   },
   "file_extension": ".py",
   "mimetype": "text/x-python",
   "name": "python",
   "nbconvert_exporter": "python",
   "pygments_lexer": "ipython3",
   "version": "3.12.0"
  }
 },
 "nbformat": 4,
 "nbformat_minor": 5
}
