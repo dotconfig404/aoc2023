{
 "cells": [
  {
   "cell_type": "code",
   "execution_count": 90,
   "metadata": {},
   "outputs": [],
   "source": [
    "with open('day2.txt', 'r') as file:\n",
    "    data = file.read().split(\"\\n\")"
   ]
  },
  {
   "cell_type": "code",
   "execution_count": 92,
   "metadata": {},
   "outputs": [
    {
     "name": "stdout",
     "output_type": "stream",
     "text": [
      "1867\n"
     ]
    }
   ],
   "source": [
    "import re\n",
    "\n",
    "sum = 0\n",
    "limits = {\"red\":12, \"green\":13, \"blue\":14}\n",
    "\n",
    "def invalid_amount(amount_and_color):\n",
    "    amount = re.search(r'\\d+', amount_and_color).group()\n",
    "    color = re.search(r'\\b[a-zA-Z]+\\b', amount_and_color).group()\n",
    "    return int(amount) > limits[color]\n",
    "\n",
    "for line in data:\n",
    "    id = int(re.search(r'\\d+', line).group())\n",
    "    draws = line.split(\":\")[1].split(\";\")\n",
    "\n",
    "    for draw in draws:\n",
    "        for amount_and_color in draw.split(\",\"):\n",
    "            if invalid_amount(amount_and_color):\n",
    "                game_invalid = True\n",
    "                break\n",
    "    \n",
    "    if not game_invalid:\n",
    "        sum += id\n",
    "    else:\n",
    "        game_invalid = False\n",
    "\n",
    "print(sum)"
   ]
  },
  {
   "cell_type": "code",
   "execution_count": 94,
   "metadata": {},
   "outputs": [
    {
     "name": "stdout",
     "output_type": "stream",
     "text": [
      "84538\n"
     ]
    }
   ],
   "source": [
    "\n",
    "\n",
    "limits = {\"red\":12, \"green\":13, \"blue\":14}\n",
    "amounts = {\"red\":0, \"green\": 0, \"blue\": 0}\n",
    "\n",
    "def invalid_amount(amount_and_color):\n",
    "    amount = re.search(r'\\d+', amount_and_color).group()\n",
    "    color = re.search(r'\\b[a-zA-Z]+\\b', amount_and_color).group()\n",
    "    return int(amount) > limits[color]\n",
    "\n",
    "sum = 0\n",
    "for line in data:\n",
    "    id = int(re.search(r'\\d+', line).group())\n",
    "    draws = line.split(\":\")[1].split(\";\")\n",
    "\n",
    "    for draw in draws:\n",
    "        for amount_and_color in draw.split(\",\"):\n",
    "            amount = int(re.search(r'\\d+', amount_and_color).group())\n",
    "            color = re.search(r'\\b[a-zA-Z]+\\b', amount_and_color).group()\n",
    "            if amounts[color] < amount:\n",
    "                amounts[color] = amount\n",
    "\n",
    "    power = amounts[\"blue\"] * amounts[\"green\"] * amounts[\"red\"]\n",
    "    sum += power\n",
    "    amounts[\"blue\"] = 0\n",
    "    amounts[\"green\"] = 0\n",
    "    amounts[\"red\"] = 0\n",
    "    \n",
    "print(sum)"
   ]
  },
  {
   "cell_type": "code",
   "execution_count": null,
   "metadata": {},
   "outputs": [],
   "source": []
  }
 ],
 "metadata": {
  "kernelspec": {
   "display_name": "Python 3 (ipykernel)",
   "language": "python",
   "name": "python3"
  },
  "language_info": {
   "codemirror_mode": {
    "name": "ipython",
    "version": 3
   },
   "file_extension": ".py",
   "mimetype": "text/x-python",
   "name": "python",
   "nbconvert_exporter": "python",
   "pygments_lexer": "ipython3",
   "version": "3.12.0"
  }
 },
 "nbformat": 4,
 "nbformat_minor": 2
}
