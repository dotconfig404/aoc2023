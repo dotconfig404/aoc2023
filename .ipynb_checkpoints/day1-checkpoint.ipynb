{
 "cells": [
  {
   "cell_type": "code",
   "execution_count": 99,
   "id": "dad89ddc-ed3a-4cab-b146-39ebcb55ff57",
   "metadata": {},
   "outputs": [],
   "source": [
    "with open('day1.txt', 'r') as file:\n",
    "    data = file.read().split(\"\\n\")"
   ]
  },
  {
   "cell_type": "code",
   "execution_count": 100,
   "id": "819279db-91bf-4fa9-9d0a-50d975fdb152",
   "metadata": {},
   "outputs": [
    {
     "name": "stdout",
     "output_type": "stream",
     "text": [
      "55834\n"
     ]
    }
   ],
   "source": [
    "first = \"\"\n",
    "sum = 0\n",
    "for line in data:\n",
    "    for char in line:\n",
    "        if char.isdigit():\n",
    "            if first == \"\":\n",
    "                first = last = char\n",
    "            else:\n",
    "                last = char\n",
    "    sum += int(\"\" + first + last)\n",
    "    first = \"\"\n",
    "\n",
    "print(sum)"
   ]
  },
  {
   "cell_type": "code",
   "execution_count": 101,
   "id": "d79d2855-9707-4d88-a896-cf89643b51fa",
   "metadata": {},
   "outputs": [],
   "source": [
    "with open('day1.txt', 'r') as file:\n",
    "    data2 = file.read().split(\"\\n\")"
   ]
  },
  {
   "cell_type": "code",
   "execution_count": 102,
   "id": "eaeb3af5-3e84-4971-893f-07deaf564b9a",
   "metadata": {},
   "outputs": [
    {
     "name": "stdout",
     "output_type": "stream",
     "text": [
      "53221\n"
     ]
    }
   ],
   "source": [
    "import re\n",
    "first = \"\"\n",
    "sum = 0\n",
    "digit_codes = {\"one\":1, \"two\":2, \"three\":3, \"four\":4, \"five\":5, \"six\":6, \"seven\":7, \"eight\":8, \"nine\":9}\n",
    "\n",
    "for line in data:\n",
    "    digits = {}\n",
    "    # checking for raw digits\n",
    "    for i, char in enumerate(line):\n",
    "        if char.isdigit():\n",
    "            digits[i] = int(char)\n",
    "    # checking for encoded digits\n",
    "    for digit in digit_codes.keys():\n",
    "        first = line.find(digit)\n",
    "        last = line.rfind(digit)\n",
    "        if first != -1:\n",
    "            digits[first] = digit_codes[digit]\n",
    "            digits[last] = digit_codes[digit]\n",
    "        \n",
    "    # sorting and adding first and last\n",
    "    indices = sorted(digits.keys())\n",
    "    first = digits[indices[0]]\n",
    "    last = digits[indices[len(indices)-1]] \n",
    "    sum += int(str(first) + str(last))\n",
    "\n",
    "print(sum)"
   ]
  },
  {
   "cell_type": "code",
   "execution_count": null,
   "id": "15b687d6-8cfb-4cf6-961a-c0b624487987",
   "metadata": {},
   "outputs": [],
   "source": []
  }
 ],
 "metadata": {
  "kernelspec": {
   "display_name": "Python 3 (ipykernel)",
   "language": "python",
   "name": "python3"
  },
  "language_info": {
   "codemirror_mode": {
    "name": "ipython",
    "version": 3
   },
   "file_extension": ".py",
   "mimetype": "text/x-python",
   "name": "python",
   "nbconvert_exporter": "python",
   "pygments_lexer": "ipython3",
   "version": "3.12.0"
  }
 },
 "nbformat": 4,
 "nbformat_minor": 5
}
